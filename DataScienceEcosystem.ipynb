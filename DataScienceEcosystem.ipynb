{
 "cells": [
  {
   "cell_type": "markdown",
   "id": "b9310ec2-2274-41e0-8601-adee2bc80916",
   "metadata": {},
   "source": [
    "# Data Science Tools and Ecosystem\n"
   ]
  },
  {
   "cell_type": "markdown",
   "id": "a8863dff-388b-4b2c-8e5b-3ebfbaf40a64",
   "metadata": {},
   "source": [
    "In this notebook, Data Science Tools and Ecosystem are summarized.\n"
   ]
  },
  {
   "cell_type": "markdown",
   "id": "c11298f2-dfd0-43ee-ba6a-4f2eb4af5f04",
   "metadata": {},
   "source": [
    "Some of the popular languages that Data Scientists use are:\n",
    "1. Python\n",
    "2. R\n",
    "3. Julia\n",
    "4. C"
   ]
  },
  {
   "cell_type": "markdown",
   "id": "f1d0330b-ee66-4792-8b30-49d2049103c9",
   "metadata": {},
   "source": [
    "Some of the commonly used libraries used by Data Scientists include:\n",
    "1. Pandas\n",
    "2. Numpy\n",
    "3. Scipy"
   ]
  },
  {
   "cell_type": "markdown",
   "id": "0d98fdaa-57f7-4048-82f5-910a45d7ec08",
   "metadata": {},
   "source": [
    "|Data Science Tools|\n",
    "|---|\n",
    "|Jupyter|\n",
    "|Rstudio|\n",
    "|Apache AirFlow|"
   ]
  },
  {
   "cell_type": "markdown",
   "id": "5c093f0d-afbc-4c58-b284-28d2529069ad",
   "metadata": {},
   "source": [
    "### Below are a few examples of evaluating arithmetic expressions in Python"
   ]
  },
  {
   "cell_type": "code",
   "execution_count": 21,
   "id": "e6c99ed1-5527-41ff-aee4-76d94f0671ed",
   "metadata": {},
   "outputs": [
    {
     "data": {
      "text/plain": [
       "17"
      ]
     },
     "execution_count": 21,
     "metadata": {},
     "output_type": "execute_result"
    }
   ],
   "source": [
    "#This a simple arithmetic expression to mutiply then add integers\n",
    "(3*4)+5"
   ]
  },
  {
   "cell_type": "code",
   "execution_count": 23,
   "id": "5f0fadb7-11d7-46aa-bb63-154b2383fd05",
   "metadata": {},
   "outputs": [
    {
     "data": {
      "text/plain": [
       "3.3333333333333335"
      ]
     },
     "execution_count": 23,
     "metadata": {},
     "output_type": "execute_result"
    }
   ],
   "source": [
    "# This will convert 200 minutes to hours by diving by 60\n",
    "200/60"
   ]
  },
  {
   "cell_type": "markdown",
   "id": "1f409cb1-38a3-42f4-85a8-fc2848a3a139",
   "metadata": {},
   "source": [
    "**Obiectives:**\n",
    "* List popular languages for Data Scientists\n",
    "* List Data Science tools\n",
    "* List commonly used libraries used by Data Scientists"
   ]
  },
  {
   "cell_type": "markdown",
   "id": "d4080b57-148f-4687-9670-a062a38058a4",
   "metadata": {},
   "source": [
    "## Author\n",
    "Xiuying Wang"
   ]
  },
  {
   "cell_type": "code",
   "execution_count": null,
   "id": "8831cfca-4b49-463f-8eb1-fb3bfe6c5ff7",
   "metadata": {},
   "outputs": [],
   "source": []
  }
 ],
 "metadata": {
  "kernelspec": {
   "display_name": "anaconda-panel-2023.05-py310",
   "language": "python",
   "name": "conda-env-anaconda-panel-2023.05-py310-py"
  },
  "language_info": {
   "codemirror_mode": {
    "name": "ipython",
    "version": 3
   },
   "file_extension": ".py",
   "mimetype": "text/x-python",
   "name": "python",
   "nbconvert_exporter": "python",
   "pygments_lexer": "ipython3",
   "version": "3.11.5"
  }
 },
 "nbformat": 4,
 "nbformat_minor": 5
}
